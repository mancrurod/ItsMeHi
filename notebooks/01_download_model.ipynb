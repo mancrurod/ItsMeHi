{
 "cells": [
  {
   "cell_type": "code",
   "execution_count": null,
   "id": "16cb76ac",
   "metadata": {},
   "outputs": [
    {
     "name": "stdout",
     "output_type": "stream",
     "text": [
      "✅ Modelo guardado en: ../models/flan-t5-base\n"
     ]
    }
   ],
   "source": [
    "from transformers import AutoTokenizer, AutoModelForSeq2SeqLM\n",
    "\n",
    "\n",
    "# Model name on Hugging Face\n",
    "nombre_modelo = \"google/flan-t5-base\"\n",
    "\n",
    "# Folder where the model will be saved\n",
    "carpeta_destino = \"../models/flan-t5-base\"\n",
    "\n",
    "# Descargar y guardar el modelo\n",
    "\n",
    "modelo = AutoModelForSeq2SeqLM.from_pretrained(\"google/flan-t5-base\")\n",
    "tokenizador = AutoTokenizer.from_pretrained(\"google/flan-t5-base\")\n",
    "\n",
    "modelo.save_pretrained(\"../models/flan-t5-base\")\n",
    "tokenizador.save_pretrained(\"../models/flan-t5-base\")\n",
    "\n",
    "print(\"✅ Model stored in:\", carpeta_destino)\n"
   ]
  }
 ],
 "metadata": {
  "kernelspec": {
   "display_name": "its-me-hi",
   "language": "python",
   "name": "python3"
  },
  "language_info": {
   "codemirror_mode": {
    "name": "ipython",
    "version": 3
   },
   "file_extension": ".py",
   "mimetype": "text/x-python",
   "name": "python",
   "nbconvert_exporter": "python",
   "pygments_lexer": "ipython3",
   "version": "3.10.16"
  }
 },
 "nbformat": 4,
 "nbformat_minor": 5
}
