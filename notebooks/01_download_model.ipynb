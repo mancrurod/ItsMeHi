{
 "cells": [
  {
   "cell_type": "code",
   "execution_count": 2,
   "id": "16cb76ac",
   "metadata": {},
   "outputs": [
    {
     "name": "stdout",
     "output_type": "stream",
     "text": [
      "✅ Modelo guardado en: ../models/flan-t5-small\n"
     ]
    }
   ],
   "source": [
    "from transformers import AutoModelForSeq2SeqLM, AutoTokenizer\n",
    "\n",
    "# Nombre del modelo en Hugging Face\n",
    "nombre_modelo = \"google/flan-t5-small\"\n",
    "\n",
    "# Carpeta donde se guardará localmente\n",
    "carpeta_destino = \"../models/flan-t5-small\"\n",
    "\n",
    "# Descargar y guardar el modelo\n",
    "modelo = AutoModelForSeq2SeqLM.from_pretrained(nombre_modelo)\n",
    "tokenizador = AutoTokenizer.from_pretrained(nombre_modelo)\n",
    "\n",
    "modelo.save_pretrained(carpeta_destino)\n",
    "tokenizador.save_pretrained(carpeta_destino)\n",
    "\n",
    "print(\"✅ Modelo guardado en:\", carpeta_destino)\n"
   ]
  }
 ],
 "metadata": {
  "kernelspec": {
   "display_name": "its-me-hi",
   "language": "python",
   "name": "python3"
  },
  "language_info": {
   "codemirror_mode": {
    "name": "ipython",
    "version": 3
   },
   "file_extension": ".py",
   "mimetype": "text/x-python",
   "name": "python",
   "nbconvert_exporter": "python",
   "pygments_lexer": "ipython3",
   "version": "3.10.16"
  }
 },
 "nbformat": 4,
 "nbformat_minor": 5
}
